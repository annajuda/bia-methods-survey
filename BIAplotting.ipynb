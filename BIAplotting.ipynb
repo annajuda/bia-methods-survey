{
 "cells": [
  {
   "cell_type": "markdown",
   "metadata": {},
   "source": [
    "# Plotting the data from BIA survey"
   ]
  },
  {
   "cell_type": "code",
   "execution_count": null,
   "metadata": {},
   "outputs": [],
   "source": [
    "import pandas as pd\n",
    "import matplotlib.pyplot as plt\n",
    "import numpy as np"
   ]
  },
  {
   "cell_type": "code",
   "execution_count": null,
   "metadata": {},
   "outputs": [],
   "source": [
    "HIST_DIR = 'tiny_histograms/'\n",
    "SUMMARY_DIR = 'summary_histograms/'"
   ]
  },
  {
   "cell_type": "markdown",
   "metadata": {},
   "source": [
    "## Load the data"
   ]
  },
  {
   "cell_type": "code",
   "execution_count": null,
   "metadata": {},
   "outputs": [],
   "source": [
    "# the whole excel sheet\n",
    "df_all = pd.read_excel(\"BIAsurvey.xlsx\")\n",
    "\n",
    "# just the expert evaluation\n",
    "df = df_all.head(7).copy()\n",
    "#df['Productivity [Soil-based rooftop farming]'] = df['Productivity [Soil-based rooftop farming]'].astype('float')\n",
    "df"
   ]
  },
  {
   "cell_type": "markdown",
   "metadata": {},
   "source": [
    "## Plotting small histograms per criterion"
   ]
  },
  {
   "cell_type": "code",
   "execution_count": null,
   "metadata": {},
   "outputs": [],
   "source": [
    "SPECIAL_CHARS = [\" \", \"[\", \"]\", \"(\", \")\", \"-\", \",\", \".\", \":\"]\n",
    "def remove_special_chars(astring):\n",
    "    for spec_char in SPECIAL_CHARS:\n",
    "        astring = astring.replace(spec_char, \"\")\n",
    "    return astring"
   ]
  },
  {
   "cell_type": "code",
   "execution_count": null,
   "metadata": {},
   "outputs": [],
   "source": [
    "BINS = [0.6, 1.4, 1.6, 2.4, 2.6, 3.4, 3.6, 4.4, 4.6, 5.4]\n",
    "COLOR_RGB = [21,137,172]\n",
    "SIZE = (1, 1)\n",
    "\n",
    "def plot_histogram(column):\n",
    "    fig, ax = plt.subplots(figsize=SIZE)\n",
    "    ax.hist(df[column], bins=BINS, color=[x/256 for x in COLOR_RGB])\n",
    "    ax.set_ylim([0,5])\n",
    "    ax.set_xlim([0.6, 5.4])\n",
    "    ax.set_xticks([])\n",
    "    ax.set_yticks([])\n",
    "    plt.axis('off')\n",
    "    filename = remove_special_chars(column)+'.pdf'\n",
    "    plt.savefig(HIST_DIR+filename)\n",
    "    # uncomment to crop histograms\n",
    "    #!pdfcrop.sh -t \"0 9 0 0\" $filename"
   ]
  },
  {
   "cell_type": "code",
   "execution_count": null,
   "metadata": {},
   "outputs": [],
   "source": [
    "#alist = []\n",
    "#for column in list(df):\n",
    "#    alist.append(df[column].value_counts().max())\n",
    "#print(max(alist))"
   ]
  },
  {
   "cell_type": "code",
   "execution_count": null,
   "metadata": {
    "scrolled": true
   },
   "outputs": [],
   "source": [
    "# plot tiny histograms\n",
    "for column in list(df):\n",
    "    try:\n",
    "        plot_histogram(column)\n",
    "    except:\n",
    "        pass\n"
   ]
  },
  {
   "cell_type": "markdown",
   "metadata": {},
   "source": [
    "## Plotting of summary statistics"
   ]
  },
  {
   "cell_type": "code",
   "execution_count": null,
   "metadata": {},
   "outputs": [],
   "source": [
    "all_aspects = {\n",
    "    'social': [\n",
    "        'Productivity',\n",
    "        'Food quality',\n",
    "        'Impact on communities',\n",
    "        #'Amount of human resources needed',\n",
    "    ],\n",
    "    'spatial' : [\n",
    "        'Possibility to adapt to existing structure',\n",
    "        'Impact on urban space',\n",
    "        'Benefits from building synergies',\n",
    "    ],\n",
    "    'environmental' : [\n",
    "        'Use of fertilizers',\n",
    "        'Energy consumption',\n",
    "        'Water consumption',\n",
    "        'Biodiversity enhancement',\n",
    "        'Amount of CO2 emissions',\n",
    "        'Amount of possible varieties',\n",
    "    ],\n",
    "              }"
   ]
  },
  {
   "cell_type": "code",
   "execution_count": null,
   "metadata": {},
   "outputs": [],
   "source": [
    "methods = ['[Soil-based rooftop farming]', '[Hydroponics]', '[Aquaponics]', '[Aeroponics]']"
   ]
  },
  {
   "cell_type": "code",
   "execution_count": null,
   "metadata": {},
   "outputs": [],
   "source": [
    "def list_of_columns_by_aspect(aspect_list):\n",
    "    alist = []\n",
    "    for column in list(df):\n",
    "        for criterion in aspect_list:\n",
    "            if criterion in column:\n",
    "                alist.append(column)\n",
    "    return alist"
   ]
  },
  {
   "cell_type": "code",
   "execution_count": null,
   "metadata": {},
   "outputs": [],
   "source": [
    "def cumulate_by_method(method, alist):\n",
    "    return np.array([df[alist_element].values for alist_element in alist if method in alist_element], dtype=np.int).flatten()"
   ]
  },
  {
   "cell_type": "code",
   "execution_count": null,
   "metadata": {},
   "outputs": [],
   "source": [
    "def average_by_method(method, alist):\n",
    "        return np.mean([df_all[x].iloc[13] for x in alist if method in x], dtype=np.float)"
   ]
  },
  {
   "cell_type": "code",
   "execution_count": null,
   "metadata": {},
   "outputs": [],
   "source": [
    "BINS = [0.6, 1.4, 1.6, 2.4, 2.6, 3.4, 3.6, 4.4, 4.6, 5.4]\n",
    "bins_alternative = [0.5, 1.5, 2.5, 3.5, 4.5, 5.5]\n",
    "COLOR_BLUE = [21,137,172]\n",
    "COLOR_GREEN = [1, 110, 48]\n",
    "COLOR_RED = [137, 2, 30]\n",
    "colors = {'social': COLOR_RED,\n",
    "         'spatial': COLOR_BLUE,\n",
    "         'environmental' : COLOR_GREEN,\n",
    "         }\n",
    "\n",
    "SIZE_BIG = (5, 5)\n",
    "\n",
    "def big_histogram(notes, method, aspect, mean):\n",
    "    fig, ax = plt.subplots(figsize=SIZE_BIG)\n",
    "    ax.hist(notes, bins=bins_alternative, color=[x/256 for x in colors[aspect]], normed=True)\n",
    "    ax.set_frame_on(False)\n",
    "    #ax.set_yticks([0.25, 0.50, 0.75])\n",
    "    #ax.set_yticklabels([0.25, 0.50, 0.75], fontsize=16)\n",
    "    _, unique_counts = np.unique(notes, return_counts=True)\n",
    "    max_hist = np.max(unique_counts)/len(notes)\n",
    "    ax.set_yticks([max_hist])\n",
    "    ax.set_yticklabels([np.round(max_hist, decimals=2)], fontsize=20)\n",
    "    ax.set_ylim([0,0.75])\n",
    "    ax.set_xlim([0.6, 5.4])\n",
    "    ax.set_xticklabels(['1', np.round(mean, decimals=2), '5'], fontsize=20)\n",
    "    ax.set_xticks([1,mean, 5])\n",
    "    #ax.tick_params(axis=\"y\", direction=\"in\", length=6, width=2)\n",
    "    plt.axvline(x=mean, ymin=0, ymax=max_hist/0.75, c='black')\n",
    "    #ax.set_title(\"{0}, {1} \".format(method, aspect))\n",
    "    plt.savefig(SUMMARY_DIR+\"{0},{1}.pdf\".format(method, aspect), bbox_inches='tight')"
   ]
  },
  {
   "cell_type": "code",
   "execution_count": null,
   "metadata": {
    "scrolled": false
   },
   "outputs": [],
   "source": [
    "for aspect in all_aspects:\n",
    "    for method in methods:\n",
    "        big_histogram(cumulate_by_method( method, list_of_columns_by_aspect(all_aspects[aspect])), method, aspect,\n",
    "                     mean=average_by_method(method, list_of_columns_by_aspect(all_aspects[aspect])))"
   ]
  }
 ],
 "metadata": {
  "kernelspec": {
   "display_name": "Python 3",
   "language": "python",
   "name": "python3"
  },
  "language_info": {
   "codemirror_mode": {
    "name": "ipython",
    "version": 3
   },
   "file_extension": ".py",
   "mimetype": "text/x-python",
   "name": "python",
   "nbconvert_exporter": "python",
   "pygments_lexer": "ipython3",
   "version": "3.7.4"
  }
 },
 "nbformat": 4,
 "nbformat_minor": 2
}
